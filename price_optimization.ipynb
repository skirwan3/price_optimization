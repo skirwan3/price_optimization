{
 "cells": [
  {
   "cell_type": "markdown",
   "id": "d3c5940e",
   "metadata": {},
   "source": [
    "#### Stuart Kirwan"
   ]
  },
  {
   "cell_type": "markdown",
   "id": "1311e9f6",
   "metadata": {},
   "source": [
    "\n",
    "# Part 1: Elastic Product (Furniture)"
   ]
  },
  {
   "cell_type": "code",
   "execution_count": 1,
   "id": "6157574f",
   "metadata": {},
   "outputs": [],
   "source": [
    "# importing packages\n",
    "import pandas as pd\n",
    "import numpy as np\n",
    "from sklearn.linear_model import LinearRegression\n",
    "import matplotlib.pyplot as plt\n",
    "import gurobipy as gp \n",
    "from gurobipy import GRB"
   ]
  },
  {
   "cell_type": "code",
   "execution_count": 2,
   "id": "9d37e186",
   "metadata": {},
   "outputs": [
    {
     "data": {
      "text/html": [
       "<div>\n",
       "<style scoped>\n",
       "    .dataframe tbody tr th:only-of-type {\n",
       "        vertical-align: middle;\n",
       "    }\n",
       "\n",
       "    .dataframe tbody tr th {\n",
       "        vertical-align: top;\n",
       "    }\n",
       "\n",
       "    .dataframe thead th {\n",
       "        text-align: right;\n",
       "    }\n",
       "</style>\n",
       "<table border=\"1\" class=\"dataframe\">\n",
       "  <thead>\n",
       "    <tr style=\"text-align: right;\">\n",
       "      <th></th>\n",
       "      <th>product_id</th>\n",
       "      <th>product_category_name</th>\n",
       "      <th>month_year</th>\n",
       "      <th>qty</th>\n",
       "      <th>total_price</th>\n",
       "      <th>freight_price</th>\n",
       "      <th>unit_price</th>\n",
       "      <th>product_name_lenght</th>\n",
       "      <th>product_description_lenght</th>\n",
       "      <th>product_photos_qty</th>\n",
       "      <th>...</th>\n",
       "      <th>comp_1</th>\n",
       "      <th>ps1</th>\n",
       "      <th>fp1</th>\n",
       "      <th>comp_2</th>\n",
       "      <th>ps2</th>\n",
       "      <th>fp2</th>\n",
       "      <th>comp_3</th>\n",
       "      <th>ps3</th>\n",
       "      <th>fp3</th>\n",
       "      <th>lag_price</th>\n",
       "    </tr>\n",
       "  </thead>\n",
       "  <tbody>\n",
       "    <tr>\n",
       "      <th>494</th>\n",
       "      <td>furniture2</td>\n",
       "      <td>furniture_decor</td>\n",
       "      <td>01-07-2017</td>\n",
       "      <td>5</td>\n",
       "      <td>375.0</td>\n",
       "      <td>15.856000</td>\n",
       "      <td>75.0</td>\n",
       "      <td>44</td>\n",
       "      <td>903</td>\n",
       "      <td>6</td>\n",
       "      <td>...</td>\n",
       "      <td>75.0</td>\n",
       "      <td>4.1</td>\n",
       "      <td>15.856000</td>\n",
       "      <td>38.400000</td>\n",
       "      <td>3.7</td>\n",
       "      <td>7.780000</td>\n",
       "      <td>75.0</td>\n",
       "      <td>4.1</td>\n",
       "      <td>15.856000</td>\n",
       "      <td>74.95</td>\n",
       "    </tr>\n",
       "    <tr>\n",
       "      <th>495</th>\n",
       "      <td>furniture2</td>\n",
       "      <td>furniture_decor</td>\n",
       "      <td>01-08-2017</td>\n",
       "      <td>13</td>\n",
       "      <td>975.0</td>\n",
       "      <td>15.376923</td>\n",
       "      <td>75.0</td>\n",
       "      <td>44</td>\n",
       "      <td>903</td>\n",
       "      <td>6</td>\n",
       "      <td>...</td>\n",
       "      <td>75.0</td>\n",
       "      <td>4.1</td>\n",
       "      <td>15.376923</td>\n",
       "      <td>38.400000</td>\n",
       "      <td>3.7</td>\n",
       "      <td>12.105000</td>\n",
       "      <td>75.0</td>\n",
       "      <td>4.1</td>\n",
       "      <td>15.376923</td>\n",
       "      <td>75.00</td>\n",
       "    </tr>\n",
       "    <tr>\n",
       "      <th>496</th>\n",
       "      <td>furniture2</td>\n",
       "      <td>furniture_decor</td>\n",
       "      <td>01-10-2017</td>\n",
       "      <td>5</td>\n",
       "      <td>375.0</td>\n",
       "      <td>13.640000</td>\n",
       "      <td>75.0</td>\n",
       "      <td>44</td>\n",
       "      <td>903</td>\n",
       "      <td>6</td>\n",
       "      <td>...</td>\n",
       "      <td>75.0</td>\n",
       "      <td>4.1</td>\n",
       "      <td>13.640000</td>\n",
       "      <td>38.400000</td>\n",
       "      <td>3.7</td>\n",
       "      <td>13.980000</td>\n",
       "      <td>75.0</td>\n",
       "      <td>4.1</td>\n",
       "      <td>13.640000</td>\n",
       "      <td>74.95</td>\n",
       "    </tr>\n",
       "    <tr>\n",
       "      <th>497</th>\n",
       "      <td>furniture2</td>\n",
       "      <td>furniture_decor</td>\n",
       "      <td>01-11-2017</td>\n",
       "      <td>44</td>\n",
       "      <td>3300.0</td>\n",
       "      <td>16.132727</td>\n",
       "      <td>75.0</td>\n",
       "      <td>44</td>\n",
       "      <td>903</td>\n",
       "      <td>6</td>\n",
       "      <td>...</td>\n",
       "      <td>75.0</td>\n",
       "      <td>4.1</td>\n",
       "      <td>16.132727</td>\n",
       "      <td>36.854286</td>\n",
       "      <td>3.7</td>\n",
       "      <td>13.652143</td>\n",
       "      <td>99.9</td>\n",
       "      <td>4.4</td>\n",
       "      <td>21.190000</td>\n",
       "      <td>75.00</td>\n",
       "    </tr>\n",
       "    <tr>\n",
       "      <th>498</th>\n",
       "      <td>furniture2</td>\n",
       "      <td>furniture_decor</td>\n",
       "      <td>01-12-2017</td>\n",
       "      <td>47</td>\n",
       "      <td>3525.0</td>\n",
       "      <td>17.446383</td>\n",
       "      <td>75.0</td>\n",
       "      <td>44</td>\n",
       "      <td>903</td>\n",
       "      <td>6</td>\n",
       "      <td>...</td>\n",
       "      <td>75.0</td>\n",
       "      <td>4.1</td>\n",
       "      <td>17.446383</td>\n",
       "      <td>75.000000</td>\n",
       "      <td>4.1</td>\n",
       "      <td>17.446383</td>\n",
       "      <td>99.9</td>\n",
       "      <td>4.4</td>\n",
       "      <td>20.646667</td>\n",
       "      <td>75.00</td>\n",
       "    </tr>\n",
       "  </tbody>\n",
       "</table>\n",
       "<p>5 rows × 30 columns</p>\n",
       "</div>"
      ],
      "text/plain": [
       "     product_id product_category_name  month_year  qty  total_price  \\\n",
       "494  furniture2       furniture_decor  01-07-2017    5        375.0   \n",
       "495  furniture2       furniture_decor  01-08-2017   13        975.0   \n",
       "496  furniture2       furniture_decor  01-10-2017    5        375.0   \n",
       "497  furniture2       furniture_decor  01-11-2017   44       3300.0   \n",
       "498  furniture2       furniture_decor  01-12-2017   47       3525.0   \n",
       "\n",
       "     freight_price  unit_price  product_name_lenght  \\\n",
       "494      15.856000        75.0                   44   \n",
       "495      15.376923        75.0                   44   \n",
       "496      13.640000        75.0                   44   \n",
       "497      16.132727        75.0                   44   \n",
       "498      17.446383        75.0                   44   \n",
       "\n",
       "     product_description_lenght  product_photos_qty  ...  comp_1  ps1  \\\n",
       "494                         903                   6  ...    75.0  4.1   \n",
       "495                         903                   6  ...    75.0  4.1   \n",
       "496                         903                   6  ...    75.0  4.1   \n",
       "497                         903                   6  ...    75.0  4.1   \n",
       "498                         903                   6  ...    75.0  4.1   \n",
       "\n",
       "           fp1     comp_2  ps2        fp2  comp_3  ps3        fp3  lag_price  \n",
       "494  15.856000  38.400000  3.7   7.780000    75.0  4.1  15.856000      74.95  \n",
       "495  15.376923  38.400000  3.7  12.105000    75.0  4.1  15.376923      75.00  \n",
       "496  13.640000  38.400000  3.7  13.980000    75.0  4.1  13.640000      74.95  \n",
       "497  16.132727  36.854286  3.7  13.652143    99.9  4.4  21.190000      75.00  \n",
       "498  17.446383  75.000000  4.1  17.446383    99.9  4.4  20.646667      75.00  \n",
       "\n",
       "[5 rows x 30 columns]"
      ]
     },
     "execution_count": 2,
     "metadata": {},
     "output_type": "execute_result"
    }
   ],
   "source": [
    "# loading data\n",
    "ds = pd.read_csv('retail_price.csv')\n",
    "\n",
    "# selecting only furniture2 productid\n",
    "furn_ds = ds[ds['product_id'] == 'furniture2']\n",
    "furn_ds.head()"
   ]
  },
  {
   "cell_type": "code",
   "execution_count": 3,
   "id": "827441e6",
   "metadata": {},
   "outputs": [
    {
     "name": "stdout",
     "output_type": "stream",
     "text": [
      "Estimated Cost per Item:\n",
      "51.61666665\n"
     ]
    }
   ],
   "source": [
    "# Estimating product cost (choosing 100% markup up)\n",
    "# Online research shows the typical markup can range from 50% to 400%\n",
    "\n",
    "max_price = max(furn_ds['unit_price'])\n",
    "est_cost = (max_price/2)\n",
    "print('Estimated Cost per Item:')\n",
    "print(est_cost)"
   ]
  },
  {
   "cell_type": "code",
   "execution_count": 4,
   "id": "78945793",
   "metadata": {},
   "outputs": [
    {
     "data": {
      "text/plain": [
       "Text(0.5, 1.0, 'Quantity Sold vs Unit Price')"
      ]
     },
     "execution_count": 4,
     "metadata": {},
     "output_type": "execute_result"
    },
    {
     "data": {
      "image/png": "[encoded data removed]",
      "text/plain": [
       "<Figure size 432x288 with 1 Axes>"
      ]
     },
     "metadata": {
      "needs_background": "light"
     },
     "output_type": "display_data"
    }
   ],
   "source": [
    "plt.scatter(furn_ds['unit_price'], furn_ds['qty'])\n",
    "plt.xlabel('Unit Price (US$)')\n",
    "plt.ylabel('Qty Sold (Monthly)')\n",
    "plt.title('Quantity Sold vs Unit Price')"
   ]
  },
  {
   "cell_type": "code",
   "execution_count": 5,
   "id": "27d37769",
   "metadata": {},
   "outputs": [
    {
     "name": "stdout",
     "output_type": "stream",
     "text": [
      "Model coefficients:  [-2.51284805]\n",
      "Model intercept:  235.30905533492975\n",
      "R-squared:  0.4190039602670904\n"
     ]
    }
   ],
   "source": [
    "# Creating datasets\n",
    "X = furn_ds[['unit_price']]\n",
    "y = furn_ds['qty']\n",
    "\n",
    "# Creating linear regression to model price\n",
    "model = LinearRegression()\n",
    "model.fit(X,y)\n",
    "\n",
    "# Regression Output\n",
    "print('Model coefficients: ', model.coef_)\n",
    "print('Model intercept: ', model.intercept_)\n",
    "print('R-squared: ', model.score(X, y))"
   ]
  },
  {
   "cell_type": "markdown",
   "id": "a550bc6b",
   "metadata": {},
   "source": [
    "#### Demand Equation:\n",
    "\n",
    "*Qty* = 235.309 + (-2.513)**Unit_Price*\n",
    "\n",
    "#### Calculating Quadratic Equation for Estimated Profit:\n",
    "*Profit* = (*Unit_price* - *Estimated_Cost*) * (*Qty*) \n",
    "\n",
    "*Profit* = (*Unit_price* - 51.617) * (235.309 + (-2.513)\\**Unit_Price*)\n",
    "\n",
    "*Profit* = (235.309\\**Unit_price*) + ((-2.513)\\**Unit_Price*^2) + (-12145.945) + (129.714\\**Unit_Price*)\n",
    "\n",
    "#### Final Quadratic Equation for Estimated Profit:\n",
    "\n",
    "*Profit* = ((-2.513)\\**Unit_Price*^2) + (365.023\\**Unit_price*) + (-12145.945)"
   ]
  },
  {
   "cell_type": "code",
   "execution_count": 6,
   "id": "c86fbf5a",
   "metadata": {
    "scrolled": true
   },
   "outputs": [
    {
     "data": {
      "text/plain": [
       "Text(0.5, 1.0, 'Quadratic Equation Estimating Monthly Profit')"
      ]
     },
     "execution_count": 6,
     "metadata": {},
     "output_type": "execute_result"
    },
    {
     "data": {
      "image/png": "[encoded data removed]",
      "text/plain": [
       "<Figure size 432x288 with 1 Axes>"
      ]
     },
     "metadata": {
      "needs_background": "light"
     },
     "output_type": "display_data"
    }
   ],
   "source": [
    "# plotting quadratic equation\n",
    "\n",
    "def quadratic(a, b, c, x):\n",
    "    y = a*x**2 + b*x + c\n",
    "    return y\n",
    "\n",
    "# Create x values from 0 to 150\n",
    "x = range(50, 100)\n",
    "\n",
    "# Evaluate Final Quadratic Equation for each value of x\n",
    "y = [quadratic(-2.513, 365.023, -12145.945, i) for i in x]\n",
    "\n",
    "# Plot the points\n",
    "plt.plot(x, y)\n",
    "plt.xlabel('Unit Price (US$)')\n",
    "plt.ylabel('Monthly Profit (US$)')\n",
    "plt.title('Quadratic Equation Estimating Monthly Profit')"
   ]
  },
  {
   "cell_type": "code",
   "execution_count": 7,
   "id": "d66a1eac",
   "metadata": {},
   "outputs": [
    {
     "name": "stdout",
     "output_type": "stream",
     "text": [
      "Restricted license - for non-production use only - expires 2024-10-28\n",
      "Gurobi Optimizer version 10.0.1 build v10.0.1rc0 (mac64[x86])\n",
      "\n",
      "CPU model: Intel(R) Core(TM) i5-4258U CPU @ 2.40GHz\n",
      "Thread count: 2 physical cores, 4 logical processors, using up to 4 threads\n",
      "\n",
      "Optimize a model with 0 rows, 1 columns and 0 nonzeros\n",
      "Model fingerprint: 0x2e49c814\n",
      "Model has 1 quadratic objective term\n",
      "Coefficient statistics:\n",
      "  Matrix range     [0e+00, 0e+00]\n",
      "  Objective range  [4e+02, 4e+02]\n",
      "  QObjective range [5e+00, 5e+00]\n",
      "  Bounds range     [0e+00, 0e+00]\n",
      "  RHS range        [0e+00, 0e+00]\n",
      "Presolve removed 0 rows and 1 columns\n",
      "Presolve time: 0.13s\n",
      "Presolve: All rows and columns removed\n",
      "\n",
      "Barrier solved model in 0 iterations and 0.15 seconds (0.00 work units)\n",
      "Optimal objective 1.10930674e+03\n",
      "\n",
      "\n",
      "Optimal Unit Price: $72.63\n",
      "Resulting in $1109.31 monthly profit\n"
     ]
    }
   ],
   "source": [
    "# Creating gurobi optimization model\n",
    "quad_model_1 = gp.Model(\"quadratic\")\n",
    "\n",
    "# Decision Variable\n",
    "x = quad_model_1.addVar(lb=0, ub=GRB.INFINITY, name=\"x\")\n",
    "\n",
    "# Objective function\n",
    "quad_model_1.setObjective(-2.513 * x ** 2 + 365.023 * x - 12145.945, GRB.MAXIMIZE)\n",
    "\n",
    "# Optimize\n",
    "quad_model_1.optimize()\n",
    "\n",
    "print(\"\\n\")\n",
    "print(\"Optimal Unit Price: $\" + str(round(x.x,2)))\n",
    "print(\"Resulting in $\" + str(round(quad_model_1.objVal,2)) + \" monthly profit\")"
   ]
  },
  {
   "cell_type": "markdown",
   "id": "285907a4",
   "metadata": {},
   "source": [
    "# Part 2: Inelastic Product (Natural Gas)"
   ]
  },
  {
   "cell_type": "code",
   "execution_count": 8,
   "id": "770f8c56",
   "metadata": {},
   "outputs": [],
   "source": [
    "# importing data\n",
    "\n",
    "# Gas consumption Data\n",
    "gas_cons_ds = pd.read_csv('gas_cons.csv')\n",
    "\n",
    "# Gas Price Data\n",
    "gas_price_ds = pd.read_csv('gas_price.csv')\n",
    "\n",
    "# CPI Data\n",
    "cpi_ds = pd.read_csv('cpi.csv')"
   ]
  },
  {
   "cell_type": "code",
   "execution_count": 9,
   "id": "fbc47845",
   "metadata": {},
   "outputs": [],
   "source": [
    "# Data Wrangling Gas Price Data\n",
    "\n",
    "# Finding average natural gas price by year for USA\n",
    "year_price = pd.DataFrame(gas_price_ds.groupby(gas_price_ds['year'])['price'].mean()).reset_index()\n",
    "\n",
    "# Obtaining List of years with available data\n",
    "years = list(year_price['year'])"
   ]
  },
  {
   "cell_type": "code",
   "execution_count": 10,
   "id": "f7d083ff",
   "metadata": {},
   "outputs": [],
   "source": [
    "# Data Wrangling Gas consumption data\n",
    "\n",
    "# Filtering for USA, subset of years (with available prce data)\n",
    "gas_cons2 = gas_cons_ds[gas_cons_ds['Code'] == 'USA']\n",
    "gas_cons3 = gas_cons2[gas_cons2['Year'].isin(years)]\\\n",
    ".rename(columns={'Year':'year','Gas Consumption - TWh': 'consumption'}).reset_index()\\\n",
    ".drop(columns=['index','Entity','Code'])"
   ]
  },
  {
   "cell_type": "code",
   "execution_count": 11,
   "id": "90d0c61c",
   "metadata": {},
   "outputs": [],
   "source": [
    "# Data Wrangling CPI data\n",
    "\n",
    "# Finding average CPI value for year\n",
    "cpi_ds2 = pd.DataFrame(cpi_ds.groupby(cpi_ds['year'])['cpi'].mean()).reset_index()"
   ]
  },
  {
   "cell_type": "code",
   "execution_count": 12,
   "id": "d2b9d432",
   "metadata": {},
   "outputs": [
    {
     "name": "stdout",
     "output_type": "stream",
     "text": [
      "Dataset for years 1997-2010:\n",
      "   index  year     price  consumption         cpi  inflation_factor  adj_price\n",
      "0      0  1997  2.496667    6125.3154  111.516667          1.000000   2.496667\n",
      "1      1  1998  2.090833    6021.7910  102.875000          0.922508   2.266467\n",
      "2      2  1999  2.270000    6042.6284  106.616667          0.956060   2.374327\n",
      "3      3  2000  4.309167    6283.9067  124.608333          1.117397   3.856435\n",
      "4      4  2001  3.956667    6006.5800  129.291667          1.159393   3.412705\n",
      "\n",
      "\n",
      "Dataset for years 2011-2021:\n",
      "   index  year     price  consumption         cpi  inflation_factor  adj_price\n",
      "0     14  2011  4.000000    6582.1080  243.909083          2.187198   1.828824\n",
      "1     15  2012  2.752500    6881.2275  246.080417          2.206669   1.247355\n",
      "2     16  2013  3.728333    7070.2285  244.409500          2.191686   1.701126\n",
      "3     17  2014  4.391667    7222.6045  243.583417          2.184278   2.010580\n",
      "4     18  2015  2.630000    7435.7950  202.895000          1.819414   1.445520\n"
     ]
    }
   ],
   "source": [
    "# merging datasets\n",
    "merged_df = pd.merge(year_price, gas_cons3, on='year', how='inner')\n",
    "merged_df2 = pd.merge(merged_df, cpi_ds2, on='year', how='inner')\n",
    "\n",
    "# adjusting natural gas price for inflation\n",
    "merged_df2['inflation_factor'] = merged_df2['cpi'] / merged_df2.loc[merged_df2['year'] == 1997, 'cpi'].iloc[0]\n",
    "merged_df2['adj_price'] = merged_df2['price'] / merged_df2['inflation_factor']\n",
    "\n",
    "# Subsetting data for years before and after 2010\n",
    "gas_b_2010 = merged_df2[merged_df2['year'] <= 2010].reset_index()\n",
    "gas_a_2010 = merged_df2[merged_df2['year'] > 2010].reset_index()\n",
    "\n",
    "print('Dataset for years 1997-2010:')\n",
    "print(gas_b_2010.head())\n",
    "print('\\n')\n",
    "print('Dataset for years 2011-2021:')\n",
    "print(gas_a_2010.head())"
   ]
  },
  {
   "cell_type": "code",
   "execution_count": 13,
   "id": "bdbc9f60",
   "metadata": {},
   "outputs": [
    {
     "name": "stdout",
     "output_type": "stream",
     "text": [
      "Estimated Cost for years 1997-2010:\n",
      "1.8500380202286444\n",
      "\n",
      "\n",
      "Estimated Cost for years 2011-2021:\n",
      "0.6701934454046067\n"
     ]
    }
   ],
   "source": [
    "# Difficult to find production cost or markup data. Estimating a 200% markup\n",
    "# 1997 - 2010\n",
    "max_price_b = max(gas_b_2010['adj_price'])\n",
    "est_cost_b = (max_price_b/3)\n",
    "\n",
    "print('Estimated Cost for years 1997-2010:')\n",
    "print(est_cost_b)\n",
    "print('\\n')\n",
    "\n",
    "# Difficult to find production cost or markup data. Estimating a 200% markup\n",
    "# 2011 - 2021\n",
    "max_price_a = max(gas_a_2010['adj_price'])\n",
    "est_cost_a = (max_price_a/3)\n",
    "\n",
    "print('Estimated Cost for years 2011-2021:')\n",
    "print(est_cost_a)"
   ]
  },
  {
   "cell_type": "markdown",
   "id": "9856de4e",
   "metadata": {},
   "source": [
    "## Price Optimization for Natural Gas (1997-2010)"
   ]
  },
  {
   "cell_type": "code",
   "execution_count": 14,
   "id": "a0211d17",
   "metadata": {},
   "outputs": [
    {
     "data": {
      "text/plain": [
       "Text(0.5, 1.0, 'Natural Gas Consumption vs Price in US (1997-2010)')"
      ]
     },
     "execution_count": 14,
     "metadata": {},
     "output_type": "execute_result"
    },
    {
     "data": {
      "image/png": "[encoded data removed]",
      "text/plain": [
       "<Figure size 1000x800 with 1 Axes>"
      ]
     },
     "metadata": {
      "needs_background": "light"
     },
     "output_type": "display_data"
    }
   ],
   "source": [
    "# Plotting Data for years 1997-2010\n",
    "labels = gas_b_2010['year']\n",
    "\n",
    "fig = plt.figure(figsize=(10, 8), dpi=100)\n",
    "\n",
    "plt.scatter(gas_b_2010['adj_price'], gas_b_2010['consumption'])\n",
    "\n",
    "# Add labels to the plot\n",
    "for i, label in enumerate(labels):\n",
    "    plt.annotate(label, xy=(gas_b_2010['adj_price'][i], \\\n",
    "                            gas_b_2010['consumption'][i]), textcoords='offset points', xytext=(0,10), ha='center')\n",
    "\n",
    "plt.xlabel('Adjusted Price (Henry Hub Natural Gas Price Spot)')\n",
    "plt.ylabel('Natural Gas Consumption (terawatt-hours)')\n",
    "plt.title('Natural Gas Consumption vs Price in US (1997-2010)')"
   ]
  },
  {
   "cell_type": "code",
   "execution_count": 15,
   "id": "67843f1f",
   "metadata": {},
   "outputs": [
    {
     "name": "stdout",
     "output_type": "stream",
     "text": [
      "Model coefficients:  [-51.8089732]\n",
      "Model intercept:  6303.801221748019\n",
      "R-squared:  0.10411009624276835\n"
     ]
    }
   ],
   "source": [
    "# Linear Regression for years 1997-2010\n",
    "\n",
    "# Creating datasets\n",
    "X_gas = gas_b_2010[['adj_price']]\n",
    "y_gas = gas_b_2010['consumption']\n",
    "\n",
    "# Creating linear regression to model price\n",
    "model_gas = LinearRegression()\n",
    "model_gas.fit(X_gas,y_gas)\n",
    "\n",
    "# Regression Output\n",
    "print('Model coefficients: ', model_gas.coef_)\n",
    "print('Model intercept: ', model_gas.intercept_)\n",
    "print('R-squared: ', model_gas.score(X_gas, y_gas))"
   ]
  },
  {
   "cell_type": "markdown",
   "id": "7fc72af3",
   "metadata": {},
   "source": [
    "#### Demand Equation:\n",
    "*Consumption* = 6303.801 + (-51.809)\\**Price*\n",
    "\n",
    "#### Calculating Quadratic Equation for Estimated Profit:\n",
    "*Profit* = (*Price* - *Estimated_Cost*) * (*Consumption*) \n",
    "\n",
    "*Profit* = (*Price* - 1.85) * (6303.801 + (-51.809)\\**Price*)\n",
    "\n",
    "#### Final Quadratic Equation for Estimated Profit:\n",
    "\n",
    "*Profit* = -51.809\\**Price*^2+6399.647\\**Price*-11662.032\n"
   ]
  },
  {
   "cell_type": "code",
   "execution_count": 16,
   "id": "01b83915",
   "metadata": {},
   "outputs": [
    {
     "data": {
      "text/plain": [
       "Text(0.5, 1.0, 'Quadratic Equation Estimating Profit per Btu')"
      ]
     },
     "execution_count": 16,
     "metadata": {},
     "output_type": "execute_result"
    },
    {
     "data": {
      "image/png": "[encoded data removed]",
      "text/plain": [
       "<Figure size 432x288 with 1 Axes>"
      ]
     },
     "metadata": {
      "needs_background": "light"
     },
     "output_type": "display_data"
    }
   ],
   "source": [
    "# Create x values from 0 to 120\n",
    "x = range(0, 120)\n",
    "\n",
    "# Evaluate Final Quadratic Equation for each value of x\n",
    "y = [quadratic(-51.809, 6399.647, -11662.032, i) for i in x]\n",
    "\n",
    "# Plot the points\n",
    "plt.plot(x, y)\n",
    "plt.xlabel('Unit Price (US$)')\n",
    "plt.ylabel('Profit per Btu (US$)')\n",
    "plt.title('Quadratic Equation Estimating Profit per Btu')"
   ]
  },
  {
   "cell_type": "code",
   "execution_count": 17,
   "id": "bc7f17b9",
   "metadata": {},
   "outputs": [
    {
     "name": "stdout",
     "output_type": "stream",
     "text": [
      "Gurobi Optimizer version 10.0.1 build v10.0.1rc0 (mac64[x86])\n",
      "\n",
      "CPU model: Intel(R) Core(TM) i5-4258U CPU @ 2.40GHz\n",
      "Thread count: 2 physical cores, 4 logical processors, using up to 4 threads\n",
      "\n",
      "Optimize a model with 0 rows, 1 columns and 0 nonzeros\n",
      "Model fingerprint: 0xc6104652\n",
      "Model has 1 quadratic objective term\n",
      "Coefficient statistics:\n",
      "  Matrix range     [0e+00, 0e+00]\n",
      "  Objective range  [6e+03, 6e+03]\n",
      "  QObjective range [1e+02, 1e+02]\n",
      "  Bounds range     [0e+00, 0e+00]\n",
      "  RHS range        [0e+00, 0e+00]\n",
      "Presolve removed 0 rows and 1 columns\n",
      "Presolve time: 0.10s\n",
      "Presolve: All rows and columns removed\n",
      "\n",
      "Barrier solved model in 0 iterations and 0.13 seconds (0.00 work units)\n",
      "Optimal objective 1.85965223e+05\n",
      "\n",
      "\n",
      "Optimal Price: $61.76\n",
      "Resulting in $185965.22 profit\n"
     ]
    }
   ],
   "source": [
    "# Creating gurobi optimization model\n",
    "quad_model_2 = gp.Model(\"quadratic\")\n",
    "\n",
    "# Decision Variable\n",
    "x2 = quad_model_2.addVar(lb=0, ub=GRB.INFINITY, name=\"x\")\n",
    "\n",
    "# Objective function\n",
    "quad_model_2.setObjective(-51.809 * x2 ** 2 + 6399.647 * x2 - 11662.032, GRB.MAXIMIZE)\n",
    "\n",
    "# Optimize\n",
    "quad_model_2.optimize()\n",
    "\n",
    "print(\"\\n\")\n",
    "print(\"Optimal Price: $\" + str(round(x2.x,2)))\n",
    "print(\"Resulting in $\" + str(round(quad_model_2.objVal,2)) + \" profit\")"
   ]
  },
  {
   "cell_type": "markdown",
   "id": "869d67b3",
   "metadata": {},
   "source": [
    "## Price Optimization for Natural Gas (2011-2021)"
   ]
  },
  {
   "cell_type": "code",
   "execution_count": 18,
   "id": "ae3be6c8",
   "metadata": {},
   "outputs": [
    {
     "data": {
      "text/plain": [
       "Text(0.5, 1.0, 'Natural Gas Consumption vs Price in US (2011-2021)')"
      ]
     },
     "execution_count": 18,
     "metadata": {},
     "output_type": "execute_result"
    },
    {
     "data": {
      "image/png": "[encoded data removed]",
      "text/plain": [
       "<Figure size 1000x800 with 1 Axes>"
      ]
     },
     "metadata": {
      "needs_background": "light"
     },
     "output_type": "display_data"
    }
   ],
   "source": [
    "# Plotting Data 2011-2021\n",
    "labels = gas_a_2010['year']\n",
    "\n",
    "fig = plt.figure(figsize=(10, 8), dpi=100)\n",
    "\n",
    "plt.scatter(gas_a_2010['adj_price'], gas_a_2010['consumption'])\n",
    "\n",
    "# Add labels to the plot\n",
    "for i, label in enumerate(labels):\n",
    "    plt.annotate(label, xy=(gas_a_2010['adj_price'][i], \\\n",
    "                            gas_a_2010['consumption'][i]), textcoords='offset points', xytext=(0,10), ha='center')\n",
    "\n",
    "plt.xlabel('Adjusted Price (Henry Hub Natural Gas Price Spot)')\n",
    "plt.ylabel('Natural Gas Consumption (terawatt-hours)')\n",
    "plt.title('Natural Gas Consumption vs Price in US (2011-2021)')"
   ]
  },
  {
   "cell_type": "code",
   "execution_count": 19,
   "id": "6ea95576",
   "metadata": {},
   "outputs": [
    {
     "name": "stdout",
     "output_type": "stream",
     "text": [
      "Model coefficients:  [-807.01536813]\n",
      "Model intercept:  8847.234730897131\n",
      "R-squared:  0.1096982700218535\n"
     ]
    }
   ],
   "source": [
    "# Linear Regression for years 2011-2021\n",
    "\n",
    "# Creating datasets\n",
    "X_gas = gas_a_2010[['adj_price']]\n",
    "y_gas = gas_a_2010['consumption']\n",
    "\n",
    "# Creating linear regression to model price\n",
    "model_gas = LinearRegression()\n",
    "model_gas.fit(X_gas,y_gas)\n",
    "\n",
    "# Regression Output\n",
    "print('Model coefficients: ', model_gas.coef_)\n",
    "print('Model intercept: ', model_gas.intercept_)\n",
    "print('R-squared: ', model_gas.score(X_gas, y_gas))"
   ]
  },
  {
   "cell_type": "markdown",
   "id": "8b048fa3",
   "metadata": {},
   "source": [
    "#### Demand Equation:\n",
    "*Consumption* = 8847.234 + (-807.015)\\**Price*\n",
    "\n",
    "#### Calculating Quadratic Equation for Estimated Profit:\n",
    "*Profit* = (*Price* - *Estimated_Cost*) * (*Consumption*) \n",
    "\n",
    "*Profit* = (*Price* - 0.670) * (8847.234 + (-807.015)\\**Price*)\n",
    "\n",
    "#### Final Quadratic Equation for Estimated Profit:\n",
    "\n",
    "*Profit* = -807.015\\**Price*^2 + 9387.934\\**Price* - 5927.647"
   ]
  },
  {
   "cell_type": "code",
   "execution_count": 20,
   "id": "e7f49881",
   "metadata": {},
   "outputs": [
    {
     "data": {
      "text/plain": [
       "Text(0.5, 1.0, 'Quadratic Equation Estimating Profit per Btu')"
      ]
     },
     "execution_count": 20,
     "metadata": {},
     "output_type": "execute_result"
    },
    {
     "data": {
      "image/png": "[encoded data removed]",
      "text/plain": [
       "<Figure size 432x288 with 1 Axes>"
      ]
     },
     "metadata": {
      "needs_background": "light"
     },
     "output_type": "display_data"
    }
   ],
   "source": [
    "# Create x values from 0 to 12\n",
    "x = range(0, 12)\n",
    "\n",
    "# Evaluate Final Quadratic Equation for each value of x\n",
    "y = [quadratic(-807.015, 9387.934, -5927.647, i) for i in x]\n",
    "\n",
    "# Plot the points\n",
    "plt.plot(x, y)\n",
    "plt.xlabel('Unit Price (US$)')\n",
    "plt.ylabel('Profit per Btu (US$)')\n",
    "plt.title('Quadratic Equation Estimating Profit per Btu')"
   ]
  },
  {
   "cell_type": "code",
   "execution_count": 21,
   "id": "2f2854b3",
   "metadata": {},
   "outputs": [
    {
     "name": "stdout",
     "output_type": "stream",
     "text": [
      "Gurobi Optimizer version 10.0.1 build v10.0.1rc0 (mac64[x86])\n",
      "\n",
      "CPU model: Intel(R) Core(TM) i5-4258U CPU @ 2.40GHz\n",
      "Thread count: 2 physical cores, 4 logical processors, using up to 4 threads\n",
      "\n",
      "Optimize a model with 0 rows, 1 columns and 0 nonzeros\n",
      "Model fingerprint: 0xe319c954\n",
      "Model has 1 quadratic objective term\n",
      "Coefficient statistics:\n",
      "  Matrix range     [0e+00, 0e+00]\n",
      "  Objective range  [9e+03, 9e+03]\n",
      "  QObjective range [2e+03, 2e+03]\n",
      "  Bounds range     [0e+00, 0e+00]\n",
      "  RHS range        [0e+00, 0e+00]\n",
      "Presolve removed 0 rows and 1 columns\n",
      "Presolve time: 0.10s\n",
      "Presolve: All rows and columns removed\n",
      "\n",
      "Barrier solved model in 0 iterations and 0.12 seconds (0.00 work units)\n",
      "Optimal objective 2.13746041e+04\n",
      "\n",
      "\n",
      "Optimal Price: $5.82\n",
      "Resulting in $21374.6 profit\n"
     ]
    }
   ],
   "source": [
    "# Creating gurobi optimization model\n",
    "quad_model_3 = gp.Model(\"quadratic\")\n",
    "\n",
    "# Decision Variable\n",
    "x3 = quad_model_3.addVar(lb=0, ub=GRB.INFINITY, name=\"x3\")\n",
    "\n",
    "# Objective function\n",
    "quad_model_3.setObjective(-807.015 * x3 ** 2 + 9387.934 * x3 - 5927.647, GRB.MAXIMIZE)\n",
    "\n",
    "# Optimize\n",
    "quad_model_3.optimize()\n",
    "\n",
    "#print(x3)\n",
    "\n",
    "print(\"\\n\")\n",
    "print(\"Optimal Price: $\" + str(round(x3.x,2)))\n",
    "print(\"Resulting in $\" + str(round(quad_model_3.objVal,2)) + \" profit\")"
   ]
  }
 ],
 "metadata": {
  "kernelspec": {
   "display_name": "Python 3 (ipykernel)",
   "language": "python",
   "name": "python3"
  },
  "language_info": {
   "codemirror_mode": {
    "name": "ipython",
    "version": 3
   },
   "file_extension": ".py",
   "mimetype": "text/x-python",
   "name": "python",
   "nbconvert_exporter": "python",
   "pygments_lexer": "ipython3",
   "version": "3.9.12"
  }
 },
 "nbformat": 4,
 "nbformat_minor": 5
}
